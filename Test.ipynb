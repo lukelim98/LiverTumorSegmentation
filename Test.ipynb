{
 "cells": [
  {
   "cell_type": "code",
   "execution_count": 2,
   "id": "07d5f53b-1ca7-4233-9d50-16e7e391ba14",
   "metadata": {
    "tags": []
   },
   "outputs": [],
   "source": [
    "import pandas as pd\n",
    "import numpy as np\n",
    "import torch"
   ]
  },
  {
   "cell_type": "code",
   "execution_count": 3,
   "id": "9ce61263-cb94-4e0d-87ae-d6a1a9fdb0c9",
   "metadata": {
    "tags": []
   },
   "outputs": [],
   "source": [
    "lits_df = pd.read_csv('archive/lits_df.csv')\n",
    "lits_probe = pd.read_csv('archive/lits_probe.csv')\n",
    "lits_train = pd.read_csv('archive/lits_train.csv')\n",
    "lits_test = pd.read_csv('archive/lits_test.csv')"
   ]
  },
  {
   "cell_type": "code",
   "execution_count": 4,
   "id": "961a2506-645f-4a3b-acfa-32ffcdc96bc0",
   "metadata": {
    "tags": []
   },
   "outputs": [
    {
     "data": {
      "text/plain": [
       "'../input/lits-png/dataset_6/volume-2_0.png'"
      ]
     },
     "execution_count": 4,
     "metadata": {},
     "output_type": "execute_result"
    }
   ],
   "source": [
    "lits_train['filepath'][0]"
   ]
  },
  {
   "cell_type": "code",
   "execution_count": 6,
   "id": "1d705b61-7f4b-4559-99c5-13fc52391912",
   "metadata": {},
   "outputs": [
    {
     "data": {
      "text/html": [
       "<div>\n",
       "<style scoped>\n",
       "    .dataframe tbody tr th:only-of-type {\n",
       "        vertical-align: middle;\n",
       "    }\n",
       "\n",
       "    .dataframe tbody tr th {\n",
       "        vertical-align: top;\n",
       "    }\n",
       "\n",
       "    .dataframe thead th {\n",
       "        text-align: right;\n",
       "    }\n",
       "</style>\n",
       "<table border=\"1\" class=\"dataframe\">\n",
       "  <thead>\n",
       "    <tr style=\"text-align: right;\">\n",
       "      <th></th>\n",
       "      <th>filepath</th>\n",
       "      <th>liver_maskpath</th>\n",
       "      <th>tumor_maskpath</th>\n",
       "      <th>study_number</th>\n",
       "      <th>instance_number</th>\n",
       "      <th>liver_mask_empty</th>\n",
       "      <th>tumor_mask_empty</th>\n",
       "    </tr>\n",
       "  </thead>\n",
       "  <tbody>\n",
       "    <tr>\n",
       "      <th>0</th>\n",
       "      <td>../input/lits-png/dataset_6/volume-29_0.png</td>\n",
       "      <td>../input/lits-png/dataset_6/segmentation-29_li...</td>\n",
       "      <td>../input/lits-png/dataset_6/segmentation-29_le...</td>\n",
       "      <td>29</td>\n",
       "      <td>0</td>\n",
       "      <td>False</td>\n",
       "      <td>False</td>\n",
       "    </tr>\n",
       "    <tr>\n",
       "      <th>1</th>\n",
       "      <td>../input/lits-png/dataset_6/volume-29_1.png</td>\n",
       "      <td>../input/lits-png/dataset_6/segmentation-29_li...</td>\n",
       "      <td>../input/lits-png/dataset_6/segmentation-29_le...</td>\n",
       "      <td>29</td>\n",
       "      <td>1</td>\n",
       "      <td>False</td>\n",
       "      <td>False</td>\n",
       "    </tr>\n",
       "    <tr>\n",
       "      <th>2</th>\n",
       "      <td>../input/lits-png/dataset_6/volume-29_2.png</td>\n",
       "      <td>../input/lits-png/dataset_6/segmentation-29_li...</td>\n",
       "      <td>../input/lits-png/dataset_6/segmentation-29_le...</td>\n",
       "      <td>29</td>\n",
       "      <td>2</td>\n",
       "      <td>False</td>\n",
       "      <td>False</td>\n",
       "    </tr>\n",
       "    <tr>\n",
       "      <th>3</th>\n",
       "      <td>../input/lits-png/dataset_6/volume-29_3.png</td>\n",
       "      <td>../input/lits-png/dataset_6/segmentation-29_li...</td>\n",
       "      <td>../input/lits-png/dataset_6/segmentation-29_le...</td>\n",
       "      <td>29</td>\n",
       "      <td>3</td>\n",
       "      <td>False</td>\n",
       "      <td>False</td>\n",
       "    </tr>\n",
       "    <tr>\n",
       "      <th>4</th>\n",
       "      <td>../input/lits-png/dataset_6/volume-29_4.png</td>\n",
       "      <td>../input/lits-png/dataset_6/segmentation-29_li...</td>\n",
       "      <td>../input/lits-png/dataset_6/segmentation-29_le...</td>\n",
       "      <td>29</td>\n",
       "      <td>4</td>\n",
       "      <td>False</td>\n",
       "      <td>False</td>\n",
       "    </tr>\n",
       "    <tr>\n",
       "      <th>...</th>\n",
       "      <td>...</td>\n",
       "      <td>...</td>\n",
       "      <td>...</td>\n",
       "      <td>...</td>\n",
       "      <td>...</td>\n",
       "      <td>...</td>\n",
       "      <td>...</td>\n",
       "    </tr>\n",
       "    <tr>\n",
       "      <th>3033</th>\n",
       "      <td>../input/lits-png/dataset_6/volume-125_251.png</td>\n",
       "      <td>../input/lits-png/dataset_6/segmentation-125_l...</td>\n",
       "      <td>../input/lits-png/dataset_6/segmentation-125_l...</td>\n",
       "      <td>125</td>\n",
       "      <td>251</td>\n",
       "      <td>True</td>\n",
       "      <td>False</td>\n",
       "    </tr>\n",
       "    <tr>\n",
       "      <th>3034</th>\n",
       "      <td>../input/lits-png/dataset_6/volume-125_252.png</td>\n",
       "      <td>../input/lits-png/dataset_6/segmentation-125_l...</td>\n",
       "      <td>../input/lits-png/dataset_6/segmentation-125_l...</td>\n",
       "      <td>125</td>\n",
       "      <td>252</td>\n",
       "      <td>True</td>\n",
       "      <td>False</td>\n",
       "    </tr>\n",
       "    <tr>\n",
       "      <th>3035</th>\n",
       "      <td>../input/lits-png/dataset_6/volume-125_253.png</td>\n",
       "      <td>../input/lits-png/dataset_6/segmentation-125_l...</td>\n",
       "      <td>../input/lits-png/dataset_6/segmentation-125_l...</td>\n",
       "      <td>125</td>\n",
       "      <td>253</td>\n",
       "      <td>True</td>\n",
       "      <td>False</td>\n",
       "    </tr>\n",
       "    <tr>\n",
       "      <th>3036</th>\n",
       "      <td>../input/lits-png/dataset_6/volume-125_254.png</td>\n",
       "      <td>../input/lits-png/dataset_6/segmentation-125_l...</td>\n",
       "      <td>../input/lits-png/dataset_6/segmentation-125_l...</td>\n",
       "      <td>125</td>\n",
       "      <td>254</td>\n",
       "      <td>True</td>\n",
       "      <td>False</td>\n",
       "    </tr>\n",
       "    <tr>\n",
       "      <th>3037</th>\n",
       "      <td>../input/lits-png/dataset_6/volume-125_255.png</td>\n",
       "      <td>../input/lits-png/dataset_6/segmentation-125_l...</td>\n",
       "      <td>../input/lits-png/dataset_6/segmentation-125_l...</td>\n",
       "      <td>125</td>\n",
       "      <td>255</td>\n",
       "      <td>True</td>\n",
       "      <td>False</td>\n",
       "    </tr>\n",
       "  </tbody>\n",
       "</table>\n",
       "<p>3038 rows × 7 columns</p>\n",
       "</div>"
      ],
      "text/plain": [
       "                                            filepath  \\\n",
       "0        ../input/lits-png/dataset_6/volume-29_0.png   \n",
       "1        ../input/lits-png/dataset_6/volume-29_1.png   \n",
       "2        ../input/lits-png/dataset_6/volume-29_2.png   \n",
       "3        ../input/lits-png/dataset_6/volume-29_3.png   \n",
       "4        ../input/lits-png/dataset_6/volume-29_4.png   \n",
       "...                                              ...   \n",
       "3033  ../input/lits-png/dataset_6/volume-125_251.png   \n",
       "3034  ../input/lits-png/dataset_6/volume-125_252.png   \n",
       "3035  ../input/lits-png/dataset_6/volume-125_253.png   \n",
       "3036  ../input/lits-png/dataset_6/volume-125_254.png   \n",
       "3037  ../input/lits-png/dataset_6/volume-125_255.png   \n",
       "\n",
       "                                         liver_maskpath  \\\n",
       "0     ../input/lits-png/dataset_6/segmentation-29_li...   \n",
       "1     ../input/lits-png/dataset_6/segmentation-29_li...   \n",
       "2     ../input/lits-png/dataset_6/segmentation-29_li...   \n",
       "3     ../input/lits-png/dataset_6/segmentation-29_li...   \n",
       "4     ../input/lits-png/dataset_6/segmentation-29_li...   \n",
       "...                                                 ...   \n",
       "3033  ../input/lits-png/dataset_6/segmentation-125_l...   \n",
       "3034  ../input/lits-png/dataset_6/segmentation-125_l...   \n",
       "3035  ../input/lits-png/dataset_6/segmentation-125_l...   \n",
       "3036  ../input/lits-png/dataset_6/segmentation-125_l...   \n",
       "3037  ../input/lits-png/dataset_6/segmentation-125_l...   \n",
       "\n",
       "                                         tumor_maskpath  study_number  \\\n",
       "0     ../input/lits-png/dataset_6/segmentation-29_le...            29   \n",
       "1     ../input/lits-png/dataset_6/segmentation-29_le...            29   \n",
       "2     ../input/lits-png/dataset_6/segmentation-29_le...            29   \n",
       "3     ../input/lits-png/dataset_6/segmentation-29_le...            29   \n",
       "4     ../input/lits-png/dataset_6/segmentation-29_le...            29   \n",
       "...                                                 ...           ...   \n",
       "3033  ../input/lits-png/dataset_6/segmentation-125_l...           125   \n",
       "3034  ../input/lits-png/dataset_6/segmentation-125_l...           125   \n",
       "3035  ../input/lits-png/dataset_6/segmentation-125_l...           125   \n",
       "3036  ../input/lits-png/dataset_6/segmentation-125_l...           125   \n",
       "3037  ../input/lits-png/dataset_6/segmentation-125_l...           125   \n",
       "\n",
       "      instance_number  liver_mask_empty  tumor_mask_empty  \n",
       "0                   0             False             False  \n",
       "1                   1             False             False  \n",
       "2                   2             False             False  \n",
       "3                   3             False             False  \n",
       "4                   4             False             False  \n",
       "...               ...               ...               ...  \n",
       "3033              251              True             False  \n",
       "3034              252              True             False  \n",
       "3035              253              True             False  \n",
       "3036              254              True             False  \n",
       "3037              255              True             False  \n",
       "\n",
       "[3038 rows x 7 columns]"
      ]
     },
     "execution_count": 6,
     "metadata": {},
     "output_type": "execute_result"
    }
   ],
   "source": [
    "lits_probe"
   ]
  },
  {
   "cell_type": "code",
   "execution_count": 7,
   "id": "cd8d604d-2abe-4e40-8072-0cc237f0a231",
   "metadata": {},
   "outputs": [
    {
     "name": "stdout",
     "output_type": "stream",
     "text": [
      "hello world\n"
     ]
    }
   ],
   "source": [
    "print('hello world')"
   ]
  },
  {
   "cell_type": "code",
   "execution_count": null,
   "id": "faab20b8-272c-41db-80bc-3867c60ff2ce",
   "metadata": {},
   "outputs": [],
   "source": []
  }
 ],
 "metadata": {
  "kernelspec": {
   "display_name": "Python 3 (ipykernel)",
   "language": "python",
   "name": "python3"
  },
  "language_info": {
   "codemirror_mode": {
    "name": "ipython",
    "version": 3
   },
   "file_extension": ".py",
   "mimetype": "text/x-python",
   "name": "python",
   "nbconvert_exporter": "python",
   "pygments_lexer": "ipython3",
   "version": "3.10.6"
  }
 },
 "nbformat": 4,
 "nbformat_minor": 5
}
