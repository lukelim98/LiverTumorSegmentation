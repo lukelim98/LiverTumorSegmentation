{
 "cells": [
  {
   "cell_type": "code",
   "execution_count": 2,
   "id": "07d5f53b-1ca7-4233-9d50-16e7e391ba14",
   "metadata": {
    "tags": []
   },
   "outputs": [],
   "source": [
    "import pandas as pd\n",
    "import numpy as np\n",
    "import torch"
   ]
  },
  {
   "cell_type": "code",
   "execution_count": 3,
   "id": "9ce61263-cb94-4e0d-87ae-d6a1a9fdb0c9",
   "metadata": {
    "tags": []
   },
   "outputs": [],
   "source": [
    "lits_df = pd.read_csv('archive/lits_df.csv')\n",
    "lits_probe = pd.read_csv('archive/lits_probe.csv')\n",
    "lits_train = pd.read_csv('archive/lits_train.csv')\n",
    "lits_test = pd.read_csv('archive/lits_test.csv')"
   ]
  },
  {
   "cell_type": "code",
   "execution_count": 6,
   "id": "961a2506-645f-4a3b-acfa-32ffcdc96bc0",
   "metadata": {
    "tags": []
   },
   "outputs": [
    {
     "data": {
      "text/plain": [
       "'../input/lits-png/dataset_6/volume-2_0.png'"
      ]
     },
     "execution_count": 6,
     "metadata": {},
     "output_type": "execute_result"
    }
   ],
   "source": [
    "lits_train['filepath'][0]"
   ]
  },
  {
   "cell_type": "code",
   "execution_count": null,
   "id": "1d705b61-7f4b-4559-99c5-13fc52391912",
   "metadata": {},
   "outputs": [],
   "source": []
  },
  {
   "cell_type": "code",
   "execution_count": null,
   "id": "cd8d604d-2abe-4e40-8072-0cc237f0a231",
   "metadata": {},
   "outputs": [],
   "source": []
  }
 ],
 "metadata": {
  "kernelspec": {
   "display_name": "Python 3 (ipykernel)",
   "language": "python",
   "name": "python3"
  },
  "language_info": {
   "codemirror_mode": {
    "name": "ipython",
    "version": 3
   },
   "file_extension": ".py",
   "mimetype": "text/x-python",
   "name": "python",
   "nbconvert_exporter": "python",
   "pygments_lexer": "ipython3",
   "version": "3.10.6"
  }
 },
 "nbformat": 4,
 "nbformat_minor": 5
}
